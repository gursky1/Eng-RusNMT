{
 "cells": [
  {
   "cell_type": "code",
   "execution_count": 17,
   "metadata": {},
   "outputs": [
    {
     "name": "stdout",
     "output_type": "stream",
     "text": [
      "Geometric mean:  10.0    Observed mean:  10.0175\n",
      "Geometric variance:  90.0    Observed variance:  90.3978\n"
     ]
    }
   ],
   "source": [
    "import random\n",
    "import numpy as np\n",
    "A = 0.1\n",
    "def test_websearch(A):\n",
    "    stay, webcount = False, 1\n",
    "    while stay is False:\n",
    "        if random.uniform(0,1)<A:\n",
    "            stay = True\n",
    "        else:\n",
    "            webcount += 1\n",
    "    return webcount\n",
    "simulated = [test_websearch(A) for _ in range(0,50000)]\n",
    "observed_mean = round(np.mean(simulated),4)\n",
    "observed_var = round(np.var(simulated),4)\n",
    "print('Geometric mean: ', 1/A, '   Observed mean: ', observed_mean)\n",
    "print('Geometric variance: ', round((1-A)/A**2,4), '   Observed variance: ', observed_var)"
   ]
  },
  {
   "cell_type": "code",
   "execution_count": null,
   "metadata": {},
   "outputs": [],
   "source": []
  }
 ],
 "metadata": {
  "kernelspec": {
   "display_name": "Python 3",
   "language": "python",
   "name": "python3"
  },
  "language_info": {
   "codemirror_mode": {
    "name": "ipython",
    "version": 3
   },
   "file_extension": ".py",
   "mimetype": "text/x-python",
   "name": "python",
   "nbconvert_exporter": "python",
   "pygments_lexer": "ipython3",
   "version": "3.6.8"
  }
 },
 "nbformat": 4,
 "nbformat_minor": 2
}
